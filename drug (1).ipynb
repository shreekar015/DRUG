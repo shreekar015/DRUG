{
 "cells": [
  {
   "cell_type": "code",
   "execution_count": 15,
   "metadata": {},
   "outputs": [],
   "source": [
    "import pandas as pd\n",
    "import numpy as np\n",
    "\n",
    "from sklearn.svm import SVC #support vector classifier\n",
    "from sklearn.ensemble import RandomForestClassifier\n",
    "from sklearn.model_selection import train_test_split\n",
    "from sklearn.preprocessing import StandardScaler\n",
    "from sklearn.metrics import classification_report\n",
    "\n",
    "import matplotlib.pyplot as plt"
   ]
  },
  {
   "cell_type": "code",
   "execution_count": 16,
   "metadata": {},
   "outputs": [
    {
     "data": {
      "text/html": [
       "<div>\n",
       "<style scoped>\n",
       "    .dataframe tbody tr th:only-of-type {\n",
       "        vertical-align: middle;\n",
       "    }\n",
       "\n",
       "    .dataframe tbody tr th {\n",
       "        vertical-align: top;\n",
       "    }\n",
       "\n",
       "    .dataframe thead th {\n",
       "        text-align: right;\n",
       "    }\n",
       "</style>\n",
       "<table border=\"1\" class=\"dataframe\">\n",
       "  <thead>\n",
       "    <tr style=\"text-align: right;\">\n",
       "      <th></th>\n",
       "      <th>urlDrugName</th>\n",
       "      <th>rating</th>\n",
       "      <th>effectiveness</th>\n",
       "      <th>condition</th>\n",
       "      <th>sideEffects</th>\n",
       "    </tr>\n",
       "  </thead>\n",
       "  <tbody>\n",
       "    <tr>\n",
       "      <th>0</th>\n",
       "      <td>enalapril</td>\n",
       "      <td>4</td>\n",
       "      <td>Highly Effective</td>\n",
       "      <td>management of congestive heart failure</td>\n",
       "      <td>Mild Side Effects</td>\n",
       "    </tr>\n",
       "    <tr>\n",
       "      <th>1</th>\n",
       "      <td>ortho-tri-cyclen</td>\n",
       "      <td>1</td>\n",
       "      <td>Highly Effective</td>\n",
       "      <td>birth prevention</td>\n",
       "      <td>Severe Side Effects</td>\n",
       "    </tr>\n",
       "    <tr>\n",
       "      <th>2</th>\n",
       "      <td>ponstel</td>\n",
       "      <td>10</td>\n",
       "      <td>Highly Effective</td>\n",
       "      <td>menstrual cramps</td>\n",
       "      <td>No Side Effects</td>\n",
       "    </tr>\n",
       "    <tr>\n",
       "      <th>3</th>\n",
       "      <td>prilosec</td>\n",
       "      <td>3</td>\n",
       "      <td>Marginally Effective</td>\n",
       "      <td>acid reflux</td>\n",
       "      <td>Mild Side Effects</td>\n",
       "    </tr>\n",
       "    <tr>\n",
       "      <th>4</th>\n",
       "      <td>lyrica</td>\n",
       "      <td>2</td>\n",
       "      <td>Marginally Effective</td>\n",
       "      <td>fibromyalgia</td>\n",
       "      <td>Severe Side Effects</td>\n",
       "    </tr>\n",
       "  </tbody>\n",
       "</table>\n",
       "</div>"
      ],
      "text/plain": [
       "        urlDrugName  rating         effectiveness  \\\n",
       "0         enalapril       4      Highly Effective   \n",
       "1  ortho-tri-cyclen       1      Highly Effective   \n",
       "2           ponstel      10      Highly Effective   \n",
       "3          prilosec       3  Marginally Effective   \n",
       "4            lyrica       2  Marginally Effective   \n",
       "\n",
       "                                condition          sideEffects  \n",
       "0  management of congestive heart failure    Mild Side Effects  \n",
       "1                        birth prevention  Severe Side Effects  \n",
       "2                        menstrual cramps      No Side Effects  \n",
       "3                             acid reflux    Mild Side Effects  \n",
       "4                            fibromyalgia  Severe Side Effects  "
      ]
     },
     "execution_count": 16,
     "metadata": {},
     "output_type": "execute_result"
    }
   ],
   "source": [
    "df =pd.read_csv('1614141926_drugEffects.csv').drop(columns=['Unnamed: 0'])\n",
    "df.head()"
   ]
  },
  {
   "cell_type": "code",
   "execution_count": 17,
   "metadata": {},
   "outputs": [
    {
     "data": {
      "text/plain": [
       "urlDrugName      0\n",
       "rating           0\n",
       "effectiveness    0\n",
       "condition        1\n",
       "sideEffects      0\n",
       "dtype: int64"
      ]
     },
     "execution_count": 17,
     "metadata": {},
     "output_type": "execute_result"
    }
   ],
   "source": [
    "df.isnull().sum()"
   ]
  },
  {
   "cell_type": "code",
   "execution_count": 18,
   "metadata": {},
   "outputs": [],
   "source": [
    "df.dropna(inplace=True)"
   ]
  },
  {
   "cell_type": "code",
   "execution_count": 19,
   "metadata": {},
   "outputs": [
    {
     "data": {
      "text/plain": [
       "(3106, 5)"
      ]
     },
     "execution_count": 19,
     "metadata": {},
     "output_type": "execute_result"
    }
   ],
   "source": [
    "df.shape"
   ]
  },
  {
   "cell_type": "code",
   "execution_count": 20,
   "metadata": {},
   "outputs": [
    {
     "data": {
      "text/plain": [
       "<bound method NDFrame.describe of            urlDrugName  rating           effectiveness  \\\n",
       "0            enalapril       4        Highly Effective   \n",
       "1     ortho-tri-cyclen       1        Highly Effective   \n",
       "2              ponstel      10        Highly Effective   \n",
       "3             prilosec       3    Marginally Effective   \n",
       "4               lyrica       2    Marginally Effective   \n",
       "...                ...     ...                     ...   \n",
       "3102           vyvanse      10        Highly Effective   \n",
       "3103            zoloft       1             Ineffective   \n",
       "3104           climara       2    Marginally Effective   \n",
       "3105         trileptal       8  Considerably Effective   \n",
       "3106          micardis       4    Moderately Effective   \n",
       "\n",
       "                                   condition                    sideEffects  \n",
       "0     management of congestive heart failure              Mild Side Effects  \n",
       "1                           birth prevention            Severe Side Effects  \n",
       "2                           menstrual cramps                No Side Effects  \n",
       "3                                acid reflux              Mild Side Effects  \n",
       "4                               fibromyalgia            Severe Side Effects  \n",
       "...                                      ...                            ...  \n",
       "3102                                    adhd              Mild Side Effects  \n",
       "3103                              depression  Extremely Severe Side Effects  \n",
       "3104                       total hysterctomy          Moderate Side Effects  \n",
       "3105                                epilepsy              Mild Side Effects  \n",
       "3106                     high blood pressure          Moderate Side Effects  \n",
       "\n",
       "[3106 rows x 5 columns]>"
      ]
     },
     "execution_count": 20,
     "metadata": {},
     "output_type": "execute_result"
    }
   ],
   "source": [
    "df.describe"
   ]
  },
  {
   "cell_type": "code",
   "execution_count": null,
   "metadata": {},
   "outputs": [],
   "source": []
  },
  {
   "cell_type": "code",
   "execution_count": null,
   "metadata": {},
   "outputs": [],
   "source": []
  },
  {
   "cell_type": "code",
   "execution_count": 21,
   "metadata": {},
   "outputs": [
    {
     "data": {
      "image/png": "[encoded data removed]",
      "text/plain": [
       "<Figure size 432x288 with 1 Axes>"
      ]
     },
     "metadata": {
      "needs_background": "light"
     },
     "output_type": "display_data"
    }
   ],
   "source": [
    "df['urlDrugName'].value_counts().head(15).plot(kind='bar')\n",
    "plt.rcParams['figure.figsize']=(10,7)\n",
    "plt.show()"
   ]
  },
  {
   "cell_type": "code",
   "execution_count": 22,
   "metadata": {},
   "outputs": [
    {
     "data": {
      "image/png": "[encoded data removed]",
      "text/plain": [
       "<Figure size 720x504 with 1 Axes>"
      ]
     },
     "metadata": {
      "needs_background": "light"
     },
     "output_type": "display_data"
    }
   ],
   "source": [
    "# check the ratings of the drugs\n",
    "\n",
    "df['rating'].value_counts().head(15).plot(kind='bar')\n",
    "plt.xlabel('ratings')\n",
    "plt.show()"
   ]
  },
  {
   "cell_type": "code",
   "execution_count": 23,
   "metadata": {},
   "outputs": [
    {
     "data": {
      "image/png": "[encoded data removed]",
      "text/plain": [
       "<Figure size 720x504 with 1 Axes>"
      ]
     },
     "metadata": {},
     "output_type": "display_data"
    }
   ],
   "source": [
    "# check the effectiveness of the drugs\n",
    "\n",
    "df['effectiveness'].value_counts().plot(kind='pie')\n",
    "plt.show()"
   ]
  },
  {
   "cell_type": "code",
   "execution_count": 24,
   "metadata": {},
   "outputs": [
    {
     "data": {
      "image/png": "[encoded data removed]",
      "text/plain": [
       "<Figure size 720x504 with 1 Axes>"
      ]
     },
     "metadata": {
      "needs_background": "light"
     },
     "output_type": "display_data"
    }
   ],
   "source": [
    "# check the various conditions the medicine cures (top 10) since they are over thousand\n",
    "\n",
    "df['condition'].value_counts().head(15).plot(kind='bar')\n",
    "plt.xlabel('condition')\n",
    "plt.show()"
   ]
  },
  {
   "cell_type": "code",
   "execution_count": 25,
   "metadata": {},
   "outputs": [
    {
     "data": {
      "text/html": [
       "<div>\n",
       "<style scoped>\n",
       "    .dataframe tbody tr th:only-of-type {\n",
       "        vertical-align: middle;\n",
       "    }\n",
       "\n",
       "    .dataframe tbody tr th {\n",
       "        vertical-align: top;\n",
       "    }\n",
       "\n",
       "    .dataframe thead th {\n",
       "        text-align: right;\n",
       "    }\n",
       "</style>\n",
       "<table border=\"1\" class=\"dataframe\">\n",
       "  <thead>\n",
       "    <tr style=\"text-align: right;\">\n",
       "      <th></th>\n",
       "      <th>urlDrugName</th>\n",
       "      <th>rating</th>\n",
       "      <th>effectiveness</th>\n",
       "      <th>condition</th>\n",
       "    </tr>\n",
       "  </thead>\n",
       "  <tbody>\n",
       "    <tr>\n",
       "      <th>0</th>\n",
       "      <td>enalapril</td>\n",
       "      <td>4</td>\n",
       "      <td>Highly Effective</td>\n",
       "      <td>management of congestive heart failure</td>\n",
       "    </tr>\n",
       "    <tr>\n",
       "      <th>1</th>\n",
       "      <td>ortho-tri-cyclen</td>\n",
       "      <td>1</td>\n",
       "      <td>Highly Effective</td>\n",
       "      <td>birth prevention</td>\n",
       "    </tr>\n",
       "    <tr>\n",
       "      <th>2</th>\n",
       "      <td>ponstel</td>\n",
       "      <td>10</td>\n",
       "      <td>Highly Effective</td>\n",
       "      <td>menstrual cramps</td>\n",
       "    </tr>\n",
       "    <tr>\n",
       "      <th>3</th>\n",
       "      <td>prilosec</td>\n",
       "      <td>3</td>\n",
       "      <td>Marginally Effective</td>\n",
       "      <td>acid reflux</td>\n",
       "    </tr>\n",
       "    <tr>\n",
       "      <th>4</th>\n",
       "      <td>lyrica</td>\n",
       "      <td>2</td>\n",
       "      <td>Marginally Effective</td>\n",
       "      <td>fibromyalgia</td>\n",
       "    </tr>\n",
       "  </tbody>\n",
       "</table>\n",
       "</div>"
      ],
      "text/plain": [
       "        urlDrugName  rating         effectiveness  \\\n",
       "0         enalapril       4      Highly Effective   \n",
       "1  ortho-tri-cyclen       1      Highly Effective   \n",
       "2           ponstel      10      Highly Effective   \n",
       "3          prilosec       3  Marginally Effective   \n",
       "4            lyrica       2  Marginally Effective   \n",
       "\n",
       "                                condition  \n",
       "0  management of congestive heart failure  \n",
       "1                        birth prevention  \n",
       "2                        menstrual cramps  \n",
       "3                             acid reflux  \n",
       "4                            fibromyalgia  "
      ]
     },
     "execution_count": 25,
     "metadata": {},
     "output_type": "execute_result"
    }
   ],
   "source": [
    "target=df.pop('sideEffects')\n",
    "df.head()"
   ]
  },
  {
   "cell_type": "code",
   "execution_count": 26,
   "metadata": {},
   "outputs": [
    {
     "data": {
      "text/html": [
       "<div>\n",
       "<style scoped>\n",
       "    .dataframe tbody tr th:only-of-type {\n",
       "        vertical-align: middle;\n",
       "    }\n",
       "\n",
       "    .dataframe tbody tr th {\n",
       "        vertical-align: top;\n",
       "    }\n",
       "\n",
       "    .dataframe thead th {\n",
       "        text-align: right;\n",
       "    }\n",
       "</style>\n",
       "<table border=\"1\" class=\"dataframe\">\n",
       "  <thead>\n",
       "    <tr style=\"text-align: right;\">\n",
       "      <th></th>\n",
       "      <th>urlDrugName</th>\n",
       "      <th>rating</th>\n",
       "      <th>effectiveness</th>\n",
       "      <th>condition</th>\n",
       "    </tr>\n",
       "  </thead>\n",
       "  <tbody>\n",
       "    <tr>\n",
       "      <th>0</th>\n",
       "      <td>0</td>\n",
       "      <td>4</td>\n",
       "      <td>0</td>\n",
       "      <td>0</td>\n",
       "    </tr>\n",
       "    <tr>\n",
       "      <th>1</th>\n",
       "      <td>1</td>\n",
       "      <td>1</td>\n",
       "      <td>0</td>\n",
       "      <td>1</td>\n",
       "    </tr>\n",
       "    <tr>\n",
       "      <th>2</th>\n",
       "      <td>2</td>\n",
       "      <td>10</td>\n",
       "      <td>0</td>\n",
       "      <td>2</td>\n",
       "    </tr>\n",
       "    <tr>\n",
       "      <th>3</th>\n",
       "      <td>3</td>\n",
       "      <td>3</td>\n",
       "      <td>1</td>\n",
       "      <td>3</td>\n",
       "    </tr>\n",
       "    <tr>\n",
       "      <th>4</th>\n",
       "      <td>4</td>\n",
       "      <td>2</td>\n",
       "      <td>1</td>\n",
       "      <td>4</td>\n",
       "    </tr>\n",
       "  </tbody>\n",
       "</table>\n",
       "</div>"
      ],
      "text/plain": [
       "   urlDrugName  rating  effectiveness  condition\n",
       "0            0       4              0          0\n",
       "1            1       1              0          1\n",
       "2            2      10              0          2\n",
       "3            3       3              1          3\n",
       "4            4       2              1          4"
      ]
     },
     "execution_count": 26,
     "metadata": {},
     "output_type": "execute_result"
    }
   ],
   "source": [
    "#let convert categorical data to numeric \n",
    "\n",
    "cols=['urlDrugName','effectiveness','condition']\n",
    "for x in cols:\n",
    "    df[x]=pd.factorize(df[x])[0]\n",
    "    \n",
    "target=pd.factorize(target)[0]\n",
    "df.head()"
   ]
  },
  {
   "cell_type": "code",
   "execution_count": 27,
   "metadata": {},
   "outputs": [
    {
     "data": {
      "text/plain": [
       "array([[-1.21280119, -1.02435755, -1.0466628 , -0.94250417],\n",
       "       [-1.20431494, -2.04608348, -1.0466628 , -0.94016719],\n",
       "       [-1.1958287 ,  1.01909431, -1.0466628 , -0.93783021],\n",
       "       ...,\n",
       "       [ 0.35715464, -1.70550817, -0.41208645,  2.38769227],\n",
       "       [ 3.03880891,  0.33794369,  0.85706626, -0.67141449],\n",
       "       [ 1.16334817, -1.02435755,  1.49164261, -0.74152389]])"
      ]
     },
     "execution_count": 27,
     "metadata": {},
     "output_type": "execute_result"
    }
   ],
   "source": [
    "# scaling the data before modelling\n",
    "\n",
    "scaler=StandardScaler()\n",
    "df=scaler.fit_transform(df)\n",
    "df"
   ]
  },
  {
   "cell_type": "markdown",
   "metadata": {},
   "source": [
    "# Split data "
   ]
  },
  {
   "cell_type": "code",
   "execution_count": 28,
   "metadata": {},
   "outputs": [],
   "source": [
    "x_train,x_test,y_train,y_test = train_test_split(df,target, test_size=.3)"
   ]
  },
  {
   "cell_type": "markdown",
   "metadata": {},
   "source": [
    "# using SVM"
   ]
  },
  {
   "cell_type": "code",
   "execution_count": 29,
   "metadata": {},
   "outputs": [
    {
     "name": "stdout",
     "output_type": "stream",
     "text": [
      "              precision    recall  f1-score   support\n",
      "\n",
      "           0       0.48      0.55      0.52       311\n",
      "           1       0.36      0.31      0.33       108\n",
      "           2       0.59      0.62      0.61       293\n",
      "           3       0.36      0.38      0.37        40\n",
      "           4       0.40      0.30      0.34       180\n",
      "\n",
      "    accuracy                           0.49       932\n",
      "   macro avg       0.44      0.43      0.43       932\n",
      "weighted avg       0.48      0.49      0.48       932\n",
      "\n"
     ]
    }
   ],
   "source": [
    "#using SVM\n",
    "\n",
    "svm_clf=SVC().fit(x_train,y_train)\n",
    "\n",
    "svm_pred=svm_clf.predict(x_test)\n",
    "\n",
    "print(classification_report(y_test,svm_pred))"
   ]
  },
  {
   "cell_type": "markdown",
   "metadata": {},
   "source": [
    "\n",
    "# using random forest"
   ]
  },
  {
   "cell_type": "code",
   "execution_count": 30,
   "metadata": {},
   "outputs": [
    {
     "name": "stdout",
     "output_type": "stream",
     "text": [
      "              precision    recall  f1-score   support\n",
      "\n",
      "           0       0.46      0.49      0.47       311\n",
      "           1       0.37      0.31      0.34       108\n",
      "           2       0.56      0.53      0.55       293\n",
      "           3       0.39      0.42      0.40        40\n",
      "           4       0.42      0.43      0.43       180\n",
      "\n",
      "    accuracy                           0.47       932\n",
      "   macro avg       0.44      0.44      0.44       932\n",
      "weighted avg       0.47      0.47      0.47       932\n",
      "\n"
     ]
    }
   ],
   "source": [
    "#using random forest\n",
    "\n",
    "\n",
    "rf_clf=RandomForestClassifier().fit(x_train,y_train)\n",
    "\n",
    "rf_pred=rf_clf.predict(x_test)\n",
    "\n",
    "print(classification_report(y_test,rf_pred))"
   ]
  },
  {
   "cell_type": "markdown",
   "metadata": {},
   "source": [
    "# using decision tree "
   ]
  },
  {
   "cell_type": "code",
   "execution_count": 31,
   "metadata": {},
   "outputs": [],
   "source": [
    "# using decision tree \n",
    "\n",
    "from sklearn import tree\n",
    "clf = tree.DecisionTreeClassifier()\n",
    "clf = clf.fit(x_train,y_train)\n",
    "prediction=clf.predict(x_test)"
   ]
  },
  {
   "cell_type": "code",
   "execution_count": 32,
   "metadata": {},
   "outputs": [
    {
     "data": {
      "text/plain": [
       "array([1, 4, 1, 4, 0, 2, 4, 1, 2, 0, 2, 4, 4, 0, 2, 4, 1, 0, 2, 2, 0, 0,\n",
       "       4, 2, 2, 2, 2, 2, 0, 4, 0, 0, 2, 4, 2, 0, 2, 1, 2, 2, 3, 2, 0, 0,\n",
       "       4, 4, 0, 4, 2, 2, 0, 1, 0, 4, 1, 1, 0, 4, 1, 2, 0, 3, 1, 4, 0, 0,\n",
       "       0, 4, 0, 0, 0, 0, 4, 0, 0, 2, 2, 4, 1, 3, 2, 4, 1, 0, 2, 2, 4, 4,\n",
       "       2, 2, 0, 1, 4, 2, 4, 0, 2, 1, 0, 1, 1, 2, 4, 2, 1, 2, 2, 1, 0, 0,\n",
       "       2, 0, 2, 2, 1, 1, 2, 4, 3, 4, 2, 0, 1, 1, 4, 2, 4, 0, 0, 2, 0, 0,\n",
       "       4, 0, 4, 0, 1, 2, 4, 3, 0, 2, 2, 2, 3, 1, 4, 0, 0, 2, 0, 4, 2, 1,\n",
       "       2, 1, 2, 3, 1, 0, 0, 0, 2, 2, 3, 2, 2, 2, 0, 4, 3, 0, 2, 2, 4, 1,\n",
       "       4, 4, 4, 2, 0, 0, 2, 0, 0, 0, 0, 2, 2, 2, 0, 0, 1, 4, 0, 0, 4, 0,\n",
       "       4, 0, 4, 0, 3, 2, 3, 0, 1, 2, 2, 1, 2, 1, 3, 0, 4, 2, 0, 0, 0, 4,\n",
       "       4, 4, 4, 0, 3, 2, 2, 3, 3, 2, 2, 1, 2, 0, 2, 2, 2, 0, 2, 2, 0, 4,\n",
       "       0, 2, 4, 0, 0, 0, 0, 0, 0, 2, 2, 0, 2, 2, 0, 3, 0, 4, 4, 0, 0, 2,\n",
       "       2, 2, 4, 0, 2, 4, 0, 2, 0, 2, 0, 0, 4, 0, 0, 2, 0, 2, 4, 4, 0, 1,\n",
       "       2, 0, 4, 0, 2, 0, 0, 2, 4, 0, 2, 2, 0, 1, 0, 2, 0, 2, 0, 0, 2, 2,\n",
       "       3, 4, 2, 2, 2, 3, 4, 2, 0, 0, 2, 3, 2, 0, 2, 3, 2, 2, 1, 4, 1, 2,\n",
       "       2, 4, 0, 0, 4, 2, 2, 1, 2, 0, 2, 2, 3, 0, 1, 4, 2, 1, 2, 4, 0, 4,\n",
       "       0, 2, 2, 4, 1, 4, 2, 0, 0, 0, 4, 2, 2, 0, 1, 0, 0, 0, 0, 4, 3, 0,\n",
       "       2, 0, 4, 2, 0, 0, 1, 2, 4, 0, 0, 4, 2, 2, 4, 0, 2, 0, 0, 4, 2, 2,\n",
       "       4, 2, 2, 2, 1, 1, 1, 4, 0, 2, 0, 4, 0, 0, 3, 2, 4, 0, 0, 3, 2, 0,\n",
       "       0, 2, 2, 0, 2, 0, 2, 2, 0, 0, 2, 2, 0, 2, 0, 4, 4, 3, 0, 0, 2, 4,\n",
       "       2, 0, 4, 4, 0, 0, 2, 2, 4, 0, 0, 2, 2, 0, 2, 0, 0, 1, 0, 0, 1, 1,\n",
       "       3, 4, 2, 1, 0, 4, 2, 0, 2, 2, 0, 4, 4, 2, 4, 0, 0, 0, 2, 0, 2, 4,\n",
       "       0, 2, 0, 1, 0, 0, 4, 4, 2, 0, 4, 0, 1, 0, 2, 4, 2, 0, 0, 1, 4, 1,\n",
       "       0, 2, 0, 1, 2, 0, 0, 2, 2, 4, 0, 2, 2, 1, 4, 2, 4, 0, 0, 2, 0, 4,\n",
       "       2, 0, 2, 2, 0, 0, 0, 2, 4, 2, 3, 0, 0, 2, 0, 3, 0, 2, 0, 1, 0, 4,\n",
       "       4, 4, 0, 0, 4, 0, 0, 2, 3, 2, 4, 2, 0, 2, 1, 2, 4, 4, 1, 2, 0, 0,\n",
       "       0, 0, 2, 1, 0, 2, 0, 4, 0, 0, 1, 1, 2, 1, 0, 0, 2, 1, 3, 0, 0, 0,\n",
       "       2, 2, 2, 4, 0, 2, 2, 4, 0, 2, 2, 0, 0, 0, 0, 0, 4, 2, 4, 2, 4, 0,\n",
       "       0, 2, 0, 0, 0, 0, 4, 4, 0, 0, 0, 4, 2, 2, 0, 2, 0, 4, 0, 4, 0, 0,\n",
       "       0, 2, 0, 0, 2, 4, 3, 2, 2, 2, 2, 0, 0, 1, 2, 3, 0, 2, 0, 4, 1, 4,\n",
       "       1, 2, 0, 0, 2, 2, 4, 2, 4, 0, 3, 2, 1, 4, 0, 0, 0, 0, 4, 0, 4, 2,\n",
       "       4, 1, 2, 4, 1, 2, 0, 3, 1, 0, 0, 4, 0, 1, 2, 1, 4, 4, 0, 0, 4, 4,\n",
       "       2, 0, 1, 2, 4, 0, 3, 2, 2, 4, 0, 1, 0, 0, 1, 0, 0, 0, 2, 2, 0, 2,\n",
       "       0, 0, 2, 2, 4, 1, 0, 2, 4, 4, 3, 2, 4, 4, 2, 2, 2, 3, 2, 0, 0, 0,\n",
       "       0, 2, 0, 2, 4, 3, 0, 0, 4, 2, 0, 0, 0, 2, 0, 1, 2, 0, 0, 2, 4, 2,\n",
       "       2, 0, 4, 2, 1, 0, 1, 2, 0, 4, 2, 1, 0, 0, 0, 0, 2, 2, 1, 4, 2, 0,\n",
       "       0, 0, 2, 1, 4, 0, 0, 2, 2, 0, 0, 2, 0, 2, 4, 0, 2, 2, 4, 0, 0, 4,\n",
       "       2, 0, 1, 0, 2, 0, 3, 0, 2, 4, 4, 0, 2, 2, 4, 2, 0, 1, 4, 0, 0, 0,\n",
       "       4, 1, 4, 3, 2, 1, 0, 0, 4, 2, 0, 2, 0, 4, 0, 2, 0, 0, 2, 2, 0, 2,\n",
       "       4, 2, 4, 0, 4, 2, 0, 2, 2, 2, 0, 2, 2, 2, 2, 4, 0, 3, 2, 0, 2, 2,\n",
       "       4, 0, 0, 2, 3, 2, 0, 3, 2, 4, 4, 0, 2, 4, 2, 1, 2, 4, 0, 2, 0, 2,\n",
       "       2, 3, 1, 0, 3, 3, 2, 0, 3, 2, 4, 0, 4, 1, 2, 2, 0, 2, 1, 1, 0, 0,\n",
       "       2, 4, 4, 0, 0, 2, 0, 0], dtype=int64)"
      ]
     },
     "execution_count": 32,
     "metadata": {},
     "output_type": "execute_result"
    }
   ],
   "source": [
    "prediction"
   ]
  },
  {
   "cell_type": "code",
   "execution_count": null,
   "metadata": {},
   "outputs": [],
   "source": []
  },
  {
   "cell_type": "code",
   "execution_count": 33,
   "metadata": {},
   "outputs": [
    {
     "data": {
      "text/plain": [
       "[Text(279.0, 348.81, 'X[3] <= 0.8\\ngini = 0.667\\nsamples = 150\\nvalue = [50, 50, 50]'),\n",
       " Text(236.07692307692307, 285.39, 'gini = 0.0\\nsamples = 50\\nvalue = [50, 0, 0]'),\n",
       " Text(321.9230769230769, 285.39, 'X[3] <= 1.75\\ngini = 0.5\\nsamples = 100\\nvalue = [0, 50, 50]'),\n",
       " Text(171.69230769230768, 221.97, 'X[2] <= 4.95\\ngini = 0.168\\nsamples = 54\\nvalue = [0, 49, 5]'),\n",
       " Text(85.84615384615384, 158.55, 'X[3] <= 1.65\\ngini = 0.041\\nsamples = 48\\nvalue = [0, 47, 1]'),\n",
       " Text(42.92307692307692, 95.13, 'gini = 0.0\\nsamples = 47\\nvalue = [0, 47, 0]'),\n",
       " Text(128.76923076923077, 95.13, 'gini = 0.0\\nsamples = 1\\nvalue = [0, 0, 1]'),\n",
       " Text(257.53846153846155, 158.55, 'X[3] <= 1.55\\ngini = 0.444\\nsamples = 6\\nvalue = [0, 2, 4]'),\n",
       " Text(214.61538461538458, 95.13, 'gini = 0.0\\nsamples = 3\\nvalue = [0, 0, 3]'),\n",
       " Text(300.46153846153845, 95.13, 'X[2] <= 5.45\\ngini = 0.444\\nsamples = 3\\nvalue = [0, 2, 1]'),\n",
       " Text(257.53846153846155, 31.710000000000036, 'gini = 0.0\\nsamples = 2\\nvalue = [0, 2, 0]'),\n",
       " Text(343.38461538461536, 31.710000000000036, 'gini = 0.0\\nsamples = 1\\nvalue = [0, 0, 1]'),\n",
       " Text(472.15384615384613, 221.97, 'X[2] <= 4.85\\ngini = 0.043\\nsamples = 46\\nvalue = [0, 1, 45]'),\n",
       " Text(429.23076923076917, 158.55, 'X[0] <= 5.95\\ngini = 0.444\\nsamples = 3\\nvalue = [0, 1, 2]'),\n",
       " Text(386.30769230769226, 95.13, 'gini = 0.0\\nsamples = 1\\nvalue = [0, 1, 0]'),\n",
       " Text(472.15384615384613, 95.13, 'gini = 0.0\\nsamples = 2\\nvalue = [0, 0, 2]'),\n",
       " Text(515.0769230769231, 158.55, 'gini = 0.0\\nsamples = 43\\nvalue = [0, 0, 43]')]"
      ]
     },
     "execution_count": 33,
     "metadata": {},
     "output_type": "execute_result"
    },
    {
     "data": {
      "image/png": "[encoded data removed]",
      "text/plain": [
       "<Figure size 720x504 with 1 Axes>"
      ]
     },
     "metadata": {
      "needs_background": "light"
     },
     "output_type": "display_data"
    }
   ],
   "source": [
    "from sklearn.datasets import load_iris\n",
    "iris = load_iris()\n",
    "df,target = iris.data, iris.target\n",
    "clf = tree.DecisionTreeClassifier()\n",
    "clf = clf.fit(df, target)\n",
    "tree.plot_tree(clf) "
   ]
  },
  {
   "cell_type": "markdown",
   "metadata": {},
   "source": [
    "# using KNN"
   ]
  },
  {
   "cell_type": "code",
   "execution_count": 34,
   "metadata": {},
   "outputs": [],
   "source": [
    " \n",
    "\n",
    "from sklearn.model_selection import train_test_split\n",
    "X_train, X_test, y_train, y_test = train_test_split(df,target)"
   ]
  },
  {
   "cell_type": "code",
   "execution_count": 35,
   "metadata": {},
   "outputs": [],
   "source": [
    "from sklearn.preprocessing import StandardScaler\n",
    "sc = StandardScaler()\n",
    "X_train = sc.fit_transform(X_train)\n",
    "X_test = sc.transform(X_test)"
   ]
  },
  {
   "cell_type": "code",
   "execution_count": 36,
   "metadata": {},
   "outputs": [
    {
     "data": {
      "text/plain": [
       "KNeighborsClassifier()"
      ]
     },
     "execution_count": 36,
     "metadata": {},
     "output_type": "execute_result"
    }
   ],
   "source": [
    "from sklearn.neighbors import KNeighborsClassifier\n",
    "classifier = KNeighborsClassifier(n_neighbors = 5, metric = 'minkowski', p = 2)\n",
    "classifier.fit(X_train, y_train)"
   ]
  },
  {
   "cell_type": "code",
   "execution_count": 37,
   "metadata": {},
   "outputs": [],
   "source": [
    "y_pred = classifier.predict(X_test)"
   ]
  },
  {
   "cell_type": "code",
   "execution_count": 38,
   "metadata": {},
   "outputs": [
    {
     "data": {
      "text/plain": [
       "array([2, 0, 1, 1, 1, 2, 0, 2, 1, 0, 0, 2, 1, 0, 2, 0, 0, 2, 2, 0, 1, 2,\n",
       "       2, 0, 2, 2, 0, 0, 1, 2, 0, 1, 1, 2, 0, 0, 2, 2])"
      ]
     },
     "execution_count": 38,
     "metadata": {},
     "output_type": "execute_result"
    }
   ],
   "source": [
    "y_pred"
   ]
  },
  {
   "cell_type": "code",
   "execution_count": 39,
   "metadata": {},
   "outputs": [
    {
     "data": {
      "text/plain": [
       "array([2, 0, 1, 1, 1, 2, 0, 2, 1, 0, 0, 2, 2, 0, 2, 0, 0, 2, 2, 0, 2, 2,\n",
       "       2, 0, 2, 2, 0, 0, 1, 2, 0, 1, 1, 2, 0, 0, 2, 2])"
      ]
     },
     "execution_count": 39,
     "metadata": {},
     "output_type": "execute_result"
    }
   ],
   "source": [
    "y_test"
   ]
  },
  {
   "cell_type": "code",
   "execution_count": 40,
   "metadata": {},
   "outputs": [
    {
     "data": {
      "text/plain": [
       "0.9473684210526315"
      ]
     },
     "execution_count": 40,
     "metadata": {},
     "output_type": "execute_result"
    }
   ],
   "source": [
    "from sklearn.metrics import accuracy_score\n",
    "acc = accuracy_score(y_test,y_pred)\n",
    "acc"
   ]
  }
 ],
 "metadata": {
  "kernelspec": {
   "display_name": "Python 3",
   "language": "python",
   "name": "python3"
  },
  "language_info": {
   "codemirror_mode": {
    "name": "ipython",
    "version": 3
   },
   "file_extension": ".py",
   "mimetype": "text/x-python",
   "name": "python",
   "nbconvert_exporter": "python",
   "pygments_lexer": "ipython3",
   "version": "3.8.5"
  }
 },
 "nbformat": 4,
 "nbformat_minor": 4
}
